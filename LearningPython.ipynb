{
  "nbformat": 4,
  "nbformat_minor": 0,
  "metadata": {
    "colab": {
      "provenance": [],
      "authorship_tag": "ABX9TyNAhjbTfCQNecBWW4/3FIOH",
      "include_colab_link": true
    },
    "kernelspec": {
      "name": "python3",
      "display_name": "Python 3"
    },
    "language_info": {
      "name": "python"
    }
  },
  "cells": [
    {
      "cell_type": "markdown",
      "metadata": {
        "id": "view-in-github",
        "colab_type": "text"
      },
      "source": [
        "<a href=\"https://colab.research.google.com/github/sandipanchakraborty2016/30-seconds-of-java/blob/master/LearningPython.ipynb\" target=\"_parent\"><img src=\"https://colab.research.google.com/assets/colab-badge.svg\" alt=\"Open In Colab\"/></a>"
      ]
    },
    {
      "cell_type": "markdown",
      "source": [
        "This is the first python code to print a String.\n",
        "\n",
        "In here, I'm printing Hello World."
      ],
      "metadata": {
        "id": "-Y3b9ALuOl8B"
      }
    },
    {
      "cell_type": "code",
      "execution_count": 4,
      "metadata": {
        "colab": {
          "base_uri": "https://localhost:8080/"
        },
        "id": "52DlzH71OQRE",
        "outputId": "f0673ed1-39ab-44bd-c371-b8824bf96999"
      },
      "outputs": [
        {
          "output_type": "stream",
          "name": "stdout",
          "text": [
            "Hello World\n"
          ]
        }
      ],
      "source": [
        "print('Hello World')"
      ]
    },
    {
      "cell_type": "code",
      "source": [
        "print(\"Hello World\")"
      ],
      "metadata": {
        "colab": {
          "base_uri": "https://localhost:8080/"
        },
        "id": "U_q1CrlBOgD9",
        "outputId": "4bc34ee0-d946-4292-b780-13b4415ab2ef"
      },
      "execution_count": 3,
      "outputs": [
        {
          "output_type": "stream",
          "name": "stdout",
          "text": [
            "Hello World\n"
          ]
        }
      ]
    },
    {
      "cell_type": "code",
      "source": [
        "# Type your code below\n",
        "var = 5\n",
        "\n",
        "# Don't change the line below\n",
        "print(f'var = {var}')"
      ],
      "metadata": {
        "colab": {
          "base_uri": "https://localhost:8080/"
        },
        "id": "0QpUyTsrPPTX",
        "outputId": "7893716a-2506-46db-8096-9ff1d4355a0f"
      },
      "execution_count": 6,
      "outputs": [
        {
          "output_type": "stream",
          "name": "stdout",
          "text": [
            "var = 5\n"
          ]
        }
      ]
    },
    {
      "cell_type": "code",
      "source": [
        "# Type your code below\n",
        "coddy = \"I am learning to code with Coddy!\"\n",
        "\n",
        "# Don't change the line below\n",
        "print(f'coddy = \"{coddy}\"')"
      ],
      "metadata": {
        "colab": {
          "base_uri": "https://localhost:8080/"
        },
        "id": "6z8G0V8nPTsa",
        "outputId": "7789d491-a15c-4a90-b275-776ff4f8afef"
      },
      "execution_count": 7,
      "outputs": [
        {
          "output_type": "stream",
          "name": "stdout",
          "text": [
            "coddy = \"I am learning to code with Coddy!\"\n"
          ]
        }
      ]
    },
    {
      "cell_type": "code",
      "source": [
        "# Type your code below\n",
        "boolean = True\n",
        "\n",
        "# Don't change the line below\n",
        "print(f'boolean = {boolean}')"
      ],
      "metadata": {
        "id": "a0eeOpW5QSr2"
      },
      "execution_count": null,
      "outputs": []
    },
    {
      "cell_type": "markdown",
      "source": [
        "Python is a very simple language, and has a very straightforward syntax. It encourages programmers to program without boilerplate (prepared) code. The simplest directive in Python is the \"print\" directive - it simply prints out a line (and also includes a newline, unlike in C).\n",
        "\n",
        "There are two major Python versions, Python 2 and Python 3. Python 2 and 3 are quite different. This tutorial uses Python 3, because it more semantically correct and supports newer features.\n",
        "\n",
        "For example, one difference between Python 2 and 3 is the print statement. In Python 2, the \"print\" statement is not a function, and therefore it is invoked without parentheses. However, in Python 3, it is a function, and must be invoked with parentheses.\n",
        "\n",
        "To print a string in Python 3, just write:"
      ],
      "metadata": {
        "id": "ywZIyi69Ql2n"
      }
    },
    {
      "cell_type": "code",
      "source": [
        "print(\"This line will be printed.\")"
      ],
      "metadata": {
        "id": "G4NB4KcOQnDT"
      },
      "execution_count": null,
      "outputs": []
    },
    {
      "cell_type": "markdown",
      "source": [
        "Indentation\n",
        "\n",
        "Python uses indentation for blocks, instead of curly braces. Both tabs and spaces are supported, but the standard indentation requires standard Python code to use four spaces. For example:"
      ],
      "metadata": {
        "id": "OQsskIsNQpH-"
      }
    },
    {
      "cell_type": "code",
      "source": [
        "x = 1\n",
        "if x == 1:\n",
        "    # indented four spaces\n",
        "    print(\"x is 1.\")"
      ],
      "metadata": {
        "colab": {
          "base_uri": "https://localhost:8080/"
        },
        "id": "G40oJT4qQtXZ",
        "outputId": "69f62b90-c4fc-4c69-a0dd-af644fc17058"
      },
      "execution_count": 8,
      "outputs": [
        {
          "output_type": "stream",
          "name": "stdout",
          "text": [
            "x is 1.\n"
          ]
        }
      ]
    },
    {
      "cell_type": "markdown",
      "source": [
        "Exercise\n",
        "\n",
        "Use the \"print\" function to print the line \"Hello, World!\"."
      ],
      "metadata": {
        "id": "nAkdWElZQyaO"
      }
    },
    {
      "cell_type": "code",
      "source": [
        "print(\"Hello, World!\")"
      ],
      "metadata": {
        "id": "pJq9EQVgQzBO"
      },
      "execution_count": null,
      "outputs": []
    },
    {
      "cell_type": "markdown",
      "source": [
        "Variables and Types\n",
        "\n",
        "Python is completely object oriented, and not \"statically typed\". You do not need to declare variables before using them, or declare their type. Every variable in Python is an object.\n",
        "\n",
        "This tutorial will go over a few basic types of variables.\n",
        "Numbers\n",
        "\n",
        "Python supports two types of numbers - integers(whole numbers) and floating point numbers(decimals). (It also supports complex numbers, which will not be explained in this tutorial).\n",
        "\n",
        "To define an integer, use the following syntax:"
      ],
      "metadata": {
        "id": "cB6iKSiLRD5M"
      }
    },
    {
      "cell_type": "code",
      "source": [
        "myint = 7\n",
        "print(myint)"
      ],
      "metadata": {
        "id": "huKJS9ijREw4"
      },
      "execution_count": null,
      "outputs": []
    },
    {
      "cell_type": "markdown",
      "source": [
        "To define a floating point number, you may use one of the following notations:"
      ],
      "metadata": {
        "id": "coqccrScRM7x"
      }
    },
    {
      "cell_type": "code",
      "source": [
        "myfloat = 7.0\n",
        "print(myfloat)\n",
        "myfloat = float(7)\n",
        "print(myfloat)"
      ],
      "metadata": {
        "id": "aV2d6tDARN7S"
      },
      "execution_count": null,
      "outputs": []
    },
    {
      "cell_type": "markdown",
      "source": [
        "Strings are defined either with a single quote or a double quotes."
      ],
      "metadata": {
        "id": "HMqA5IN4RVNi"
      }
    },
    {
      "cell_type": "code",
      "source": [
        "mystring = 'hello'\n",
        "print(mystring)\n",
        "mystring = \"hello\"\n",
        "print(mystring)"
      ],
      "metadata": {
        "colab": {
          "base_uri": "https://localhost:8080/"
        },
        "id": "9XKWByFpRVoD",
        "outputId": "8589c997-5bce-42c7-ce27-21cb57592b5c"
      },
      "execution_count": 9,
      "outputs": [
        {
          "output_type": "stream",
          "name": "stdout",
          "text": [
            "hello\n",
            "hello\n"
          ]
        }
      ]
    },
    {
      "cell_type": "markdown",
      "source": [
        "The difference between the two is that using double quotes makes it easy to include apostrophes (whereas these would terminate the string if using single quotes)"
      ],
      "metadata": {
        "id": "SBQ7Ef6wRfOJ"
      }
    },
    {
      "cell_type": "code",
      "source": [
        "mystring = \"Don't worry about apostrophes\"\n",
        "print(mystring)"
      ],
      "metadata": {
        "colab": {
          "base_uri": "https://localhost:8080/"
        },
        "id": "07xm_MZ_Rfq0",
        "outputId": "2d766ae9-ab4a-44d9-e591-79b46c1c7954"
      },
      "execution_count": 10,
      "outputs": [
        {
          "output_type": "stream",
          "name": "stdout",
          "text": [
            "Don't worry about apostrophes\n"
          ]
        }
      ]
    },
    {
      "cell_type": "markdown",
      "source": [
        "There are additional variations on defining strings that make it easier to include things such as carriage returns, backslashes and Unicode characters. These are beyond the scope of this tutorial, but are covered in the Python documentation."
      ],
      "metadata": {
        "id": "_zfY12UzRqrO"
      }
    },
    {
      "cell_type": "markdown",
      "source": [
        "Simple operators can be executed on numbers and strings:"
      ],
      "metadata": {
        "id": "FnW4DHa5RyEP"
      }
    },
    {
      "cell_type": "code",
      "source": [
        "one = 1\n",
        "two = 2\n",
        "three = one + two\n",
        "print(three)\n",
        "\n",
        "hello = \"hello\"\n",
        "world = \"world\"\n",
        "helloworld = hello + \" \" + world\n",
        "print(helloworld)"
      ],
      "metadata": {
        "colab": {
          "base_uri": "https://localhost:8080/"
        },
        "id": "7-IgiyOoRyiX",
        "outputId": "e7e843f0-f78c-4d50-a6ab-135bf5fc51a1"
      },
      "execution_count": 11,
      "outputs": [
        {
          "output_type": "stream",
          "name": "stdout",
          "text": [
            "3\n",
            "hello world\n"
          ]
        }
      ]
    },
    {
      "cell_type": "markdown",
      "source": [
        "Assignments can be done on more than one variable \"simultaneously\" on the same line like this"
      ],
      "metadata": {
        "id": "3rimK57MR3N6"
      }
    },
    {
      "cell_type": "code",
      "source": [
        "a, b = 3, 4\n",
        "print(a, b)"
      ],
      "metadata": {
        "colab": {
          "base_uri": "https://localhost:8080/"
        },
        "id": "nNPlCfwDR3nE",
        "outputId": "83a67e64-f9f6-4773-b5f7-649ea1d367c1"
      },
      "execution_count": 12,
      "outputs": [
        {
          "output_type": "stream",
          "name": "stdout",
          "text": [
            "3 4\n"
          ]
        }
      ]
    },
    {
      "cell_type": "markdown",
      "source": [
        "Mixing operators between numbers and strings is not supported:"
      ],
      "metadata": {
        "id": "9mVRloPkSHBp"
      }
    },
    {
      "cell_type": "code",
      "source": [
        "# This will not work!\n",
        "one = 1\n",
        "two = 2\n",
        "hello = \"hello\"\n",
        "\n",
        "print(one + two + hello)"
      ],
      "metadata": {
        "colab": {
          "base_uri": "https://localhost:8080/",
          "height": 176
        },
        "id": "RTkvTEGSSJ_0",
        "outputId": "8dd6743d-c062-4f04-ff56-6b6f054a22c0"
      },
      "execution_count": 13,
      "outputs": [
        {
          "output_type": "error",
          "ename": "TypeError",
          "evalue": "unsupported operand type(s) for +: 'int' and 'str'",
          "traceback": [
            "\u001b[0;31m---------------------------------------------------------------------------\u001b[0m",
            "\u001b[0;31mTypeError\u001b[0m                                 Traceback (most recent call last)",
            "\u001b[0;32m/tmp/ipython-input-13-730448476.py\u001b[0m in \u001b[0;36m<cell line: 0>\u001b[0;34m()\u001b[0m\n\u001b[1;32m      4\u001b[0m \u001b[0mhello\u001b[0m \u001b[0;34m=\u001b[0m \u001b[0;34m\"hello\"\u001b[0m\u001b[0;34m\u001b[0m\u001b[0;34m\u001b[0m\u001b[0m\n\u001b[1;32m      5\u001b[0m \u001b[0;34m\u001b[0m\u001b[0m\n\u001b[0;32m----> 6\u001b[0;31m \u001b[0mprint\u001b[0m\u001b[0;34m(\u001b[0m\u001b[0mone\u001b[0m \u001b[0;34m+\u001b[0m \u001b[0mtwo\u001b[0m \u001b[0;34m+\u001b[0m \u001b[0mhello\u001b[0m\u001b[0;34m)\u001b[0m\u001b[0;34m\u001b[0m\u001b[0;34m\u001b[0m\u001b[0m\n\u001b[0m",
            "\u001b[0;31mTypeError\u001b[0m: unsupported operand type(s) for +: 'int' and 'str'"
          ]
        }
      ]
    },
    {
      "cell_type": "markdown",
      "source": [
        "\n",
        "\n",
        "The target of this exercise is to create a string, an integer, and a floating point number. The string should be named mystring and should contain the word \"hello\". The floating point number should be named myfloat and should contain the number 10.0, and the integer should be named myint and should contain the number 10."
      ],
      "metadata": {
        "id": "AjIYE-aNSkjB"
      }
    },
    {
      "cell_type": "code",
      "source": [
        "# change this code\n",
        "mystring = 'hello'\n",
        "myfloat = 10.0\n",
        "myint = 20\n",
        "\n",
        "# testing code\n",
        "if mystring == \"hello\":\n",
        "    print(\"String: %s\" % mystring)\n",
        "if isinstance(myfloat, float) and myfloat == 10.0:\n",
        "    print(\"Float: %f\" % myfloat)\n",
        "if isinstance(myint, int) and myint == 10:\n",
        "    print(\"Integer: %d\" % myint)"
      ],
      "metadata": {
        "colab": {
          "base_uri": "https://localhost:8080/"
        },
        "id": "gkXiWh7PSn8n",
        "outputId": "9648eb8b-a985-4cf5-894c-c9776dc3e06a"
      },
      "execution_count": 16,
      "outputs": [
        {
          "output_type": "stream",
          "name": "stdout",
          "text": [
            "String: hello\n",
            "Float: 10.000000\n"
          ]
        }
      ]
    },
    {
      "cell_type": "markdown",
      "source": [
        "Lists\n",
        "\n",
        "Lists are very similar to arrays. They can contain any type of variable, and they can contain as many variables as you wish. Lists can also be iterated over in a very simple manner. Here is an example of how to build a list."
      ],
      "metadata": {
        "id": "qk8jUxYgTfC4"
      }
    },
    {
      "cell_type": "code",
      "source": [
        "mylist = []\n",
        "mylist.append(1)\n",
        "mylist.append(2)\n",
        "mylist.append(3)\n",
        "print(mylist[0]) # prints 1\n",
        "print(mylist[1]) # prints 2\n",
        "print(mylist[2]) # prints 3\n",
        "\n",
        "# prints out 1,2,3\n",
        "for x in mylist:\n",
        "    print(x)"
      ],
      "metadata": {
        "colab": {
          "base_uri": "https://localhost:8080/"
        },
        "id": "Rt2vy2dTTfng",
        "outputId": "def12513-0a69-4cd3-fed8-36c752149e91"
      },
      "execution_count": 17,
      "outputs": [
        {
          "output_type": "stream",
          "name": "stdout",
          "text": [
            "1\n",
            "2\n",
            "3\n",
            "1\n",
            "2\n",
            "3\n"
          ]
        }
      ]
    },
    {
      "cell_type": "markdown",
      "source": [
        "\n",
        "\n",
        "Accessing an index which does not exist generates an exception (an error)."
      ],
      "metadata": {
        "id": "101l21IvTrIn"
      }
    },
    {
      "cell_type": "code",
      "source": [
        "mylist = [1,2,3]\n",
        "print(mylist[10])"
      ],
      "metadata": {
        "colab": {
          "base_uri": "https://localhost:8080/",
          "height": 159
        },
        "id": "Bf54m6j9TsSO",
        "outputId": "770b8b37-b40e-4ec5-9095-3be1fd49320e"
      },
      "execution_count": 18,
      "outputs": [
        {
          "output_type": "error",
          "ename": "IndexError",
          "evalue": "list index out of range",
          "traceback": [
            "\u001b[0;31m---------------------------------------------------------------------------\u001b[0m",
            "\u001b[0;31mIndexError\u001b[0m                                Traceback (most recent call last)",
            "\u001b[0;32m/tmp/ipython-input-18-2891004733.py\u001b[0m in \u001b[0;36m<cell line: 0>\u001b[0;34m()\u001b[0m\n\u001b[1;32m      1\u001b[0m \u001b[0mmylist\u001b[0m \u001b[0;34m=\u001b[0m \u001b[0;34m[\u001b[0m\u001b[0;36m1\u001b[0m\u001b[0;34m,\u001b[0m\u001b[0;36m2\u001b[0m\u001b[0;34m,\u001b[0m\u001b[0;36m3\u001b[0m\u001b[0;34m]\u001b[0m\u001b[0;34m\u001b[0m\u001b[0;34m\u001b[0m\u001b[0m\n\u001b[0;32m----> 2\u001b[0;31m \u001b[0mprint\u001b[0m\u001b[0;34m(\u001b[0m\u001b[0mmylist\u001b[0m\u001b[0;34m[\u001b[0m\u001b[0;36m10\u001b[0m\u001b[0;34m]\u001b[0m\u001b[0;34m)\u001b[0m\u001b[0;34m\u001b[0m\u001b[0;34m\u001b[0m\u001b[0m\n\u001b[0m",
            "\u001b[0;31mIndexError\u001b[0m: list index out of range"
          ]
        }
      ]
    },
    {
      "cell_type": "markdown",
      "source": [
        "In this exercise, you will need to add numbers and strings to the correct lists using the \"append\" list method. You must add the numbers 1,5, and 10 to the \"numbers\" list, and the words 'hello' and 'world' to the strings variable.\n",
        "\n",
        "You will also have to fill in the variable second_name with the second name in the names list, using the brackets operator []. Note that the index is zero-based, so if you want to access the second item in the list, its index will be 1."
      ],
      "metadata": {
        "id": "NMsfzi38Uroc"
      }
    },
    {
      "cell_type": "code",
      "source": [
        "numbers = []\n",
        "strings = []\n",
        "names = [\"John\", \"Eric\", \"Jessica\"]\n",
        "\n",
        "# write your code here\n",
        "numbers.append(1)\n",
        "numbers.append(5)\n",
        "numbers.append(10)\n",
        "\n",
        "strings.append('hello')\n",
        "strings.append('world')\n",
        "\n",
        "second_name = names[1]\n",
        "\n",
        "\n",
        "# this code should write out the filled arrays and the second name in the names list (Eric).\n",
        "print(numbers)\n",
        "print(strings)\n",
        "print(\"The second name on the names list is %s\" % second_name)"
      ],
      "metadata": {
        "colab": {
          "base_uri": "https://localhost:8080/"
        },
        "id": "5qOJMkgPUvbA",
        "outputId": "6bbcb647-51e6-49e8-d829-f6e73a7987b1"
      },
      "execution_count": 19,
      "outputs": [
        {
          "output_type": "stream",
          "name": "stdout",
          "text": [
            "[1, 5, 10]\n",
            "['hello', 'world']\n",
            "The second name on the names list is Eric\n"
          ]
        }
      ]
    },
    {
      "cell_type": "markdown",
      "source": [
        "Arithmetic Operators\n",
        "\n",
        "Just as any other programming languages, the addition, subtraction, multiplication, and division operators can be used with numbers."
      ],
      "metadata": {
        "id": "hcZiuc-aVBZb"
      }
    },
    {
      "cell_type": "code",
      "source": [
        "number = 1 + 2 * 3 / 4.0\n",
        "print(number)"
      ],
      "metadata": {
        "colab": {
          "base_uri": "https://localhost:8080/"
        },
        "id": "xvRdTBPrVLuf",
        "outputId": "27d9f32d-456b-4de8-fd58-11415cc1a35a"
      },
      "execution_count": 20,
      "outputs": [
        {
          "output_type": "stream",
          "name": "stdout",
          "text": [
            "2.5\n"
          ]
        }
      ]
    },
    {
      "cell_type": "markdown",
      "source": [
        "Another operator available is the modulo (%) operator, which returns the integer remainder of the division. dividend % divisor = remainder."
      ],
      "metadata": {
        "id": "RJQklzI9VPNu"
      }
    },
    {
      "cell_type": "code",
      "source": [
        "remainder = 11 % 1\n",
        "print(remainder)"
      ],
      "metadata": {
        "colab": {
          "base_uri": "https://localhost:8080/"
        },
        "id": "AW04noBmVfGt",
        "outputId": "2ff6bb23-8175-45d9-c238-0ee520b5ad41"
      },
      "execution_count": 21,
      "outputs": [
        {
          "output_type": "stream",
          "name": "stdout",
          "text": [
            "0\n"
          ]
        }
      ]
    },
    {
      "cell_type": "markdown",
      "source": [
        "Using two multiplication symbols makes a power relationship."
      ],
      "metadata": {
        "id": "Z4Xe5kJpVnRF"
      }
    },
    {
      "cell_type": "code",
      "source": [
        "squared = 7 ** 2\n",
        "cubed = 2 ** 3\n",
        "print(squared)\n",
        "print(cubed)"
      ],
      "metadata": {
        "colab": {
          "base_uri": "https://localhost:8080/"
        },
        "id": "MEwqmgNBVm4r",
        "outputId": "3fac1592-6b7e-4bf0-e94c-7f6fbe2b87a7"
      },
      "execution_count": 22,
      "outputs": [
        {
          "output_type": "stream",
          "name": "stdout",
          "text": [
            "49\n",
            "8\n"
          ]
        }
      ]
    },
    {
      "cell_type": "markdown",
      "source": [
        "Using Operators with Strings\n",
        "\n",
        "Python supports concatenating strings using the addition operator:"
      ],
      "metadata": {
        "id": "lYO9B8gpVuwH"
      }
    },
    {
      "cell_type": "code",
      "source": [
        "helloworld = \"hello\" + \" \" + \"world\"\n",
        "print(helloworld)"
      ],
      "metadata": {
        "colab": {
          "base_uri": "https://localhost:8080/"
        },
        "id": "8Pil2vSkVwkM",
        "outputId": "54e79878-340f-4d39-8f58-684a44791390"
      },
      "execution_count": 23,
      "outputs": [
        {
          "output_type": "stream",
          "name": "stdout",
          "text": [
            "hello world\n"
          ]
        }
      ]
    },
    {
      "cell_type": "markdown",
      "source": [
        "Python also supports multiplying strings to form a string with a repeating sequence:"
      ],
      "metadata": {
        "id": "Zk2EZViyV8oT"
      }
    },
    {
      "cell_type": "code",
      "source": [
        "lotsofhellos = \"hello \" * 10\n",
        "print(lotsofhellos)"
      ],
      "metadata": {
        "colab": {
          "base_uri": "https://localhost:8080/"
        },
        "id": "oZutuibgV9Er",
        "outputId": "4a17b8b3-d678-4e6f-f4bd-bf4c9fb3bcf8"
      },
      "execution_count": 25,
      "outputs": [
        {
          "output_type": "stream",
          "name": "stdout",
          "text": [
            "hello hello hello hello hello hello hello hello hello hello \n"
          ]
        }
      ]
    },
    {
      "cell_type": "markdown",
      "source": [
        "Using Operators with Lists\n",
        "\n",
        "Lists can be joined with the addition operators:"
      ],
      "metadata": {
        "id": "hA4sbRs4WHgS"
      }
    },
    {
      "cell_type": "code",
      "source": [
        "even_numbers = [2,4,6,8]\n",
        "odd_numbers = [1,3,5,7]\n",
        "all_numbers = odd_numbers + even_numbers\n",
        "print(all_numbers)"
      ],
      "metadata": {
        "colab": {
          "base_uri": "https://localhost:8080/"
        },
        "id": "T2P9klaOWH3q",
        "outputId": "9a43fa77-dfff-4f42-ffe9-8c7bc3599b06"
      },
      "execution_count": 26,
      "outputs": [
        {
          "output_type": "stream",
          "name": "stdout",
          "text": [
            "[1, 3, 5, 7, 2, 4, 6, 8]\n"
          ]
        }
      ]
    },
    {
      "cell_type": "markdown",
      "source": [
        "Just as in strings, Python supports forming new lists with a repeating sequence using the multiplication operator:"
      ],
      "metadata": {
        "id": "MpbOgTheWQ-t"
      }
    },
    {
      "cell_type": "code",
      "source": [
        "print([1,2,3] * 3)"
      ],
      "metadata": {
        "colab": {
          "base_uri": "https://localhost:8080/"
        },
        "id": "uErsJzDMWRbm",
        "outputId": "64b1b0da-6dc3-49ec-c775-133843eeb49e"
      },
      "execution_count": 27,
      "outputs": [
        {
          "output_type": "stream",
          "name": "stdout",
          "text": [
            "[1, 2, 3, 1, 2, 3, 1, 2, 3]\n"
          ]
        }
      ]
    },
    {
      "cell_type": "markdown",
      "source": [
        "The target of this exercise is to create two lists called x_list and y_list, which contain 10 instances of the variables x and y, respectively. You are also required to create a list called big_list, which contains the variables x and y, 10 times each, by concatenating the two lists you have created."
      ],
      "metadata": {
        "id": "SKTTzvzbWV1M"
      }
    },
    {
      "cell_type": "code",
      "source": [
        "x = object()\n",
        "y = object()\n",
        "\n",
        "# TODO: change this code\n",
        "x_list = [x] * 10\n",
        "y_list = [y] * 10\n",
        "big_list = x_list + y_list\n",
        "\n",
        "print(\"x_list contains %d objects\" % len(x_list))\n",
        "print(\"y_list contains %d objects\" % len(y_list))\n",
        "print(\"big_list contains %d objects\" % len(big_list))\n",
        "\n",
        "# testing code\n",
        "if x_list.count(x) == 10 and y_list.count(y) == 10:\n",
        "    print(\"Almost there...\")\n",
        "if big_list.count(x) == 10 and big_list.count(y) == 10:\n",
        "    print(\"Great!\")"
      ],
      "metadata": {
        "id": "TzvNcJbBWWPR"
      },
      "execution_count": null,
      "outputs": []
    },
    {
      "cell_type": "markdown",
      "source": [
        "Let's say you have a variable called \"name\" with your user name in it, and you would then like to print(out a greeting to that user.)"
      ],
      "metadata": {
        "id": "2qt9LVKZXRfF"
      }
    },
    {
      "cell_type": "code",
      "source": [
        "# This prints out \"Hello, Test!\"\n",
        "name = \"Test\"\n",
        "print(\"Hello, %s!\" % name)"
      ],
      "metadata": {
        "colab": {
          "base_uri": "https://localhost:8080/"
        },
        "id": "vs4YVA9hXwSp",
        "outputId": "c8db17f7-bf20-4340-92af-9aedf252ff2c"
      },
      "execution_count": 28,
      "outputs": [
        {
          "output_type": "stream",
          "name": "stdout",
          "text": [
            "Hello, Test!\n"
          ]
        }
      ]
    },
    {
      "cell_type": "markdown",
      "source": [
        "To use two or more argument specifiers, use a tuple (parentheses):"
      ],
      "metadata": {
        "id": "wxUjzJooX-LO"
      }
    },
    {
      "cell_type": "code",
      "source": [
        "# This prints out \"Test is 23 years old.\"\n",
        "name = \"Test\"\n",
        "age = 23\n",
        "print(\"%s is %d years old.\" % (name, age))"
      ],
      "metadata": {
        "colab": {
          "base_uri": "https://localhost:8080/"
        },
        "id": "xFy8hwWWX-jr",
        "outputId": "dcd7e3bc-ce6d-470a-a35a-ee67088fcf8b"
      },
      "execution_count": 30,
      "outputs": [
        {
          "output_type": "stream",
          "name": "stdout",
          "text": [
            "Test is 23 years old.\n"
          ]
        }
      ]
    },
    {
      "cell_type": "markdown",
      "source": [
        "Any object which is not a string can be formatted using the %s operator as well. The string which returns from the \"repr\" method of that object is formatted as the string. For example:"
      ],
      "metadata": {
        "id": "hQnGeK_3YkVW"
      }
    },
    {
      "cell_type": "code",
      "source": [
        "# This prints out: A list: [1, 5, 10]\n",
        "mylist = [1, 5, 10]\n",
        "print(\"A list: %s\" % mylist)"
      ],
      "metadata": {
        "colab": {
          "base_uri": "https://localhost:8080/"
        },
        "id": "lIqdZf7YYmPd",
        "outputId": "9d04a8c0-20ce-439a-874d-3c04b1e97447"
      },
      "execution_count": 31,
      "outputs": [
        {
          "output_type": "stream",
          "name": "stdout",
          "text": [
            "A list: [1, 5, 10]\n"
          ]
        }
      ]
    },
    {
      "cell_type": "markdown",
      "source": [
        "Here are some basic argument specifiers you should know:\n",
        "\n",
        "%s - String (or any object with a string representation, like numbers)\n",
        "\n",
        "%d - Integers\n",
        "\n",
        "%f - Floating point numbers\n",
        "\n",
        "%.<number of digits>f - Floating point numbers with a fixed amount of digits to the right of the dot.\n",
        "\n",
        "%x/%X - Integers in hex representation (lowercase/uppercase)"
      ],
      "metadata": {
        "id": "_T3OiDkoazot"
      }
    },
    {
      "cell_type": "markdown",
      "source": [
        "You will need to write a format string which prints out the data using the following syntax: Hello Test User. Your current balance is $53.44."
      ],
      "metadata": {
        "id": "Rt6a55aHa2VJ"
      }
    },
    {
      "cell_type": "code",
      "source": [
        "data = (\"Test\", \"User\", 53.44)\n",
        "format_string = \"Hello %s %s. Your current balance is $%s.\"\n",
        "\n",
        "print(format_string % data)"
      ],
      "metadata": {
        "colab": {
          "base_uri": "https://localhost:8080/"
        },
        "id": "cvmvSi83a4DR",
        "outputId": "672d36d4-d350-4bae-aa6c-d8609dd449d8"
      },
      "execution_count": 32,
      "outputs": [
        {
          "output_type": "stream",
          "name": "stdout",
          "text": [
            "Hello Test User. Your current balance is $53.44.\n"
          ]
        }
      ]
    },
    {
      "cell_type": "markdown",
      "source": [
        "As you can see, the first thing you learned was printing a simple sentence. This sentence was stored by Python as a string. However, instead of immediately printing strings out, we will explore the various things you can do to them. You can also use single quotes to assign a string. However, you will face problems if the value to be assigned itself contains single quotes. For example to assign the string in these bracket(single quotes are ' ') you need to use double quotes only like this"
      ],
      "metadata": {
        "id": "VvwYFIhk7SED"
      }
    },
    {
      "cell_type": "code",
      "source": [
        "astring = \"Hello world!\"\n",
        "print(\"single quotes are ' '\")\n",
        "\n",
        "print(len(astring))"
      ],
      "metadata": {
        "id": "UpWqpPC47TlJ"
      },
      "execution_count": null,
      "outputs": []
    },
    {
      "cell_type": "markdown",
      "source": [
        "That prints out 12, because \"Hello world!\" is 12 characters long, including punctuation and spaces."
      ],
      "metadata": {
        "id": "1TR1DSER7VsM"
      }
    },
    {
      "cell_type": "code",
      "source": [
        "astring = \"Hello world!\"\n",
        "print(astring.index(\"o\"))"
      ],
      "metadata": {
        "colab": {
          "base_uri": "https://localhost:8080/"
        },
        "id": "LQ47dhOI7Ya2",
        "outputId": "d9494658-4ca4-47c6-f0c6-2f9515a56dd6"
      },
      "execution_count": 33,
      "outputs": [
        {
          "output_type": "stream",
          "name": "stdout",
          "text": [
            "4\n"
          ]
        }
      ]
    },
    {
      "cell_type": "code",
      "source": [
        "astring = \"Hello world!\"\n",
        "print(astring.count(\"l\"))"
      ],
      "metadata": {
        "colab": {
          "base_uri": "https://localhost:8080/"
        },
        "id": "6mAOozZ674Yn",
        "outputId": "07f597dc-d9b2-47a2-b45d-4baa81b771dc"
      },
      "execution_count": 34,
      "outputs": [
        {
          "output_type": "stream",
          "name": "stdout",
          "text": [
            "3\n"
          ]
        }
      ]
    },
    {
      "cell_type": "code",
      "source": [
        "astring = \"Hello world!\"\n",
        "print(astring[3:7])"
      ],
      "metadata": {
        "colab": {
          "base_uri": "https://localhost:8080/"
        },
        "id": "LZYvI2Sy79mr",
        "outputId": "40e99154-6ffc-456b-c782-2ae10aabb573"
      },
      "execution_count": 35,
      "outputs": [
        {
          "output_type": "stream",
          "name": "stdout",
          "text": [
            "lo w\n"
          ]
        }
      ]
    },
    {
      "cell_type": "markdown",
      "source": [
        "If you just have one number in the brackets, it will give you the single character at that index. If you leave out the first number but keep the colon, it will give you a slice from the start to the number you left in. If you leave out the second number, it will give you a slice from the first number to the end.\n",
        "\n",
        "You can even put negative numbers inside the brackets. They are an easy way of starting at the end of the string instead of the beginning. This way, -3 means \"3rd character from the end\"."
      ],
      "metadata": {
        "id": "i1nwxJ5I8HR3"
      }
    },
    {
      "cell_type": "code",
      "source": [
        "astring = \"Hello world!\"\n",
        "print(astring[3:7:3])"
      ],
      "metadata": {
        "colab": {
          "base_uri": "https://localhost:8080/"
        },
        "id": "Z3bJzn558OPg",
        "outputId": "d009ac1d-cbde-4c27-ce60-26e9eecb9d03"
      },
      "execution_count": 37,
      "outputs": [
        {
          "output_type": "stream",
          "name": "stdout",
          "text": [
            "lw\n"
          ]
        }
      ]
    },
    {
      "cell_type": "code",
      "source": [
        "astring = \"Hello world!\"\n",
        "print(astring[3:7])\n",
        "print(astring[3:7:1])"
      ],
      "metadata": {
        "colab": {
          "base_uri": "https://localhost:8080/"
        },
        "id": "4hSc3RUY8hFt",
        "outputId": "a48ec8b5-4cab-47dc-f1d0-86986f21fa8e"
      },
      "execution_count": 38,
      "outputs": [
        {
          "output_type": "stream",
          "name": "stdout",
          "text": [
            "lo w\n",
            "lo w\n"
          ]
        }
      ]
    },
    {
      "cell_type": "markdown",
      "source": [
        "There is no function like strrev in C to reverse a string. But with the above mentioned type of slice syntax you can easily reverse a string like this"
      ],
      "metadata": {
        "id": "w9vMa8XK8sLc"
      }
    },
    {
      "cell_type": "code",
      "source": [
        "astring = \"Hello world!\"\n",
        "print(astring[::-1])"
      ],
      "metadata": {
        "colab": {
          "base_uri": "https://localhost:8080/"
        },
        "id": "tGKaBeWo8slz",
        "outputId": "89913bee-e81d-49aa-c011-fc6fe525d4f2"
      },
      "execution_count": 39,
      "outputs": [
        {
          "output_type": "stream",
          "name": "stdout",
          "text": [
            "!dlrow olleH\n"
          ]
        }
      ]
    },
    {
      "cell_type": "code",
      "source": [
        "astring = \"Hello world!\"\n",
        "print(astring.upper())\n",
        "print(astring.lower())"
      ],
      "metadata": {
        "colab": {
          "base_uri": "https://localhost:8080/"
        },
        "id": "scL2o1S78y62",
        "outputId": "b7c1625a-c94d-4aea-945c-ced8b85bbd4a"
      },
      "execution_count": 40,
      "outputs": [
        {
          "output_type": "stream",
          "name": "stdout",
          "text": [
            "HELLO WORLD!\n",
            "hello world!\n"
          ]
        }
      ]
    },
    {
      "cell_type": "code",
      "source": [
        "astring = \"Hello world!\"\n",
        "print(astring.startswith(\"Hello\"))\n",
        "print(astring.endswith(\"asdfasdfasdf\"))"
      ],
      "metadata": {
        "colab": {
          "base_uri": "https://localhost:8080/"
        },
        "id": "lXCnss9R842r",
        "outputId": "f3b51259-eb54-4813-e9cf-f61e6ad5478e"
      },
      "execution_count": 41,
      "outputs": [
        {
          "output_type": "stream",
          "name": "stdout",
          "text": [
            "True\n",
            "False\n"
          ]
        }
      ]
    },
    {
      "cell_type": "code",
      "source": [
        "astring = \"Hello world!\"\n",
        "afewwords = astring.split(\" \")\n",
        "print(afewwords)"
      ],
      "metadata": {
        "colab": {
          "base_uri": "https://localhost:8080/"
        },
        "id": "b-xl98z99Dnp",
        "outputId": "f4c311e1-36f3-41ff-f140-fbe1320f4489"
      },
      "execution_count": 44,
      "outputs": [
        {
          "output_type": "stream",
          "name": "stdout",
          "text": [
            "['Hello', 'world!']\n"
          ]
        }
      ]
    },
    {
      "cell_type": "code",
      "source": [
        "s = \"Strings are awesome!\"\n",
        "# Length should be 20\n",
        "print(\"Length of s = %d\" % len(s))\n",
        "\n",
        "# First occurrence of \"a\" should be at index 8\n",
        "print(\"The first occurrence of the letter a = %d\" % s.index(\"a\"))\n",
        "\n",
        "# Number of a's should be 2\n",
        "print(\"a occurs %d times\" % s.count(\"a\"))\n",
        "\n",
        "# Slicing the string into bits\n",
        "print(\"The first five characters are '%s'\" % s[:5]) # Start to 5\n",
        "print(\"The next five characters are '%s'\" % s[5:10]) # 5 to 10\n",
        "print(\"The thirteenth character is '%s'\" % s[12]) # Just number 12\n",
        "print(\"The last five characters are '%s'\" % s[-5:]) # 5th-from-last to end\n",
        "\n",
        "# Convert everything to uppercase\n",
        "print(\"String in uppercase: %s\" % s.upper())\n",
        "\n",
        "# Convert everything to lowercase\n",
        "print(\"String in lowercase: %s\" % s.lower())\n",
        "\n",
        "# Check how a string starts\n",
        "if s.startswith(\"Str\"):\n",
        "    print(\"String starts with 'Str'. Good!\")\n",
        "\n",
        "# Check how a string ends\n",
        "if s.endswith(\"ome!\"):\n",
        "    print(\"String ends with 'ome!'. Good!\")\n",
        "\n",
        "# Split the string into three separate strings,\n",
        "# each containing only a word\n",
        "print(\"Split the words of the string: %s\" % s.split(\" \"))"
      ],
      "metadata": {
        "colab": {
          "base_uri": "https://localhost:8080/"
        },
        "id": "lgoxJy4B-GpE",
        "outputId": "95c76bf7-256d-4b8f-d426-6b40688be7aa"
      },
      "execution_count": 46,
      "outputs": [
        {
          "output_type": "stream",
          "name": "stdout",
          "text": [
            "Length of s = 20\n",
            "The first occurrence of the letter a = 8\n",
            "a occurs 2 times\n",
            "The first five characters are 'Strin'\n",
            "The next five characters are 'gs ar'\n",
            "The thirteenth character is 'a'\n",
            "The last five characters are 'some!'\n",
            "String in uppercase: STRINGS ARE AWESOME!\n",
            "String in lowercase: strings are awesome!\n",
            "String starts with 'Str'. Good!\n",
            "String ends with 'ome!'. Good!\n",
            "Split the words of the string: ['Strings', 'are', 'awesome!']\n"
          ]
        }
      ]
    },
    {
      "cell_type": "markdown",
      "source": [
        "Conditions\n",
        "\n",
        "Python uses boolean logic to evaluate conditions. The boolean values True and False are returned when an expression is compared or evaluated. For example:"
      ],
      "metadata": {
        "id": "KK2701WS-moB"
      }
    },
    {
      "cell_type": "code",
      "source": [
        "x = 1\n",
        "print(x == 5) # prints out False\n",
        "print(x == 1) # prints out True\n",
        "print(x < 3) # prints out True"
      ],
      "metadata": {
        "colab": {
          "base_uri": "https://localhost:8080/"
        },
        "id": "KHBk4Rat-nO3",
        "outputId": "968f1833-e0c8-4c26-bb9f-1af731a96cfa"
      },
      "execution_count": 47,
      "outputs": [
        {
          "output_type": "stream",
          "name": "stdout",
          "text": [
            "False\n",
            "True\n",
            "True\n"
          ]
        }
      ]
    },
    {
      "cell_type": "markdown",
      "source": [
        "Boolean operators\n",
        "\n",
        "The \"and\" and \"or\" boolean operators allow building complex boolean expressions, for example:"
      ],
      "metadata": {
        "id": "UJw7SaB3_G2j"
      }
    },
    {
      "cell_type": "code",
      "source": [
        "name = \"Test\"\n",
        "age = 23\n",
        "if name == \"Test\" and age == 23:\n",
        "    print(\"Your name is Test, and you are also 23 years old.\")\n",
        "\n",
        "if name == \"Test\" or name == \"Test1\":\n",
        "    print(\"Your name is either Test or Test1.\")"
      ],
      "metadata": {
        "colab": {
          "base_uri": "https://localhost:8080/"
        },
        "id": "CFY93ieu_KPX",
        "outputId": "bb8b8555-e610-47cc-d4ff-019854ea4757"
      },
      "execution_count": 48,
      "outputs": [
        {
          "output_type": "stream",
          "name": "stdout",
          "text": [
            "Your name is Test, and you are also 23 years old.\n",
            "Your name is either Test or Test1.\n"
          ]
        }
      ]
    },
    {
      "cell_type": "markdown",
      "source": [
        "The \"in\" operator could be used to check if a specified object exists within an iterable object container, such as a list:"
      ],
      "metadata": {
        "id": "Hv7TgM7c_yYp"
      }
    },
    {
      "cell_type": "code",
      "source": [
        "name = \"Test\"\n",
        "if name in [\"Test\", \"Test1\"]:\n",
        "    print(\"Your name is either Test or Test1.\")"
      ],
      "metadata": {
        "colab": {
          "base_uri": "https://localhost:8080/"
        },
        "id": "W7O75ZZd_8EE",
        "outputId": "2da237ae-99e5-404b-c18d-8a42b87dd6db"
      },
      "execution_count": 49,
      "outputs": [
        {
          "output_type": "stream",
          "name": "stdout",
          "text": [
            "Your name is either Test or Test1.\n"
          ]
        }
      ]
    },
    {
      "cell_type": "markdown",
      "source": [
        "Python uses indentation to define code blocks, instead of brackets. The standard Python indentation is 4 spaces, although tabs and any other space size will work, as long as it is consistent. Notice that code blocks do not need any termination."
      ],
      "metadata": {
        "id": "c7__xudiAV-z"
      }
    },
    {
      "cell_type": "code",
      "source": [
        "statement = False\n",
        "another_statement = True\n",
        "if statement is True:\n",
        "    # do something\n",
        "    pass\n",
        "elif another_statement is True: # else if\n",
        "    # do something else\n",
        "    pass\n",
        "else:\n",
        "    # do another thing\n",
        "    pass"
      ],
      "metadata": {
        "id": "1m9ANRu2AWjZ"
      },
      "execution_count": null,
      "outputs": []
    },
    {
      "cell_type": "code",
      "source": [
        "x = 3\n",
        "if x == 3:\n",
        "    print(\"x=3!\")\n",
        "else:\n",
        "    print(\"x does not equal to 3.\")"
      ],
      "metadata": {
        "colab": {
          "base_uri": "https://localhost:8080/"
        },
        "id": "GdxIrwnjAlGe",
        "outputId": "a640c9cc-b198-4fa2-8565-b4bca1eed88b"
      },
      "execution_count": 50,
      "outputs": [
        {
          "output_type": "stream",
          "name": "stdout",
          "text": [
            "x=3!\n"
          ]
        }
      ]
    },
    {
      "cell_type": "markdown",
      "source": [
        "Unlike the double equals operator \"==\", the \"is\" operator does not match the values of the variables, but the instances themselves. For example:"
      ],
      "metadata": {
        "id": "lLXrFfgXN5Cm"
      }
    },
    {
      "cell_type": "code",
      "source": [
        "x = [1,3,5]\n",
        "y = [1,3,5]\n",
        "print(x == y) # Prints out True\n",
        "print(x is y) # Prints out False"
      ],
      "metadata": {
        "colab": {
          "base_uri": "https://localhost:8080/"
        },
        "id": "2veaIeRIN6yY",
        "outputId": "4836a91e-d965-43b0-acd3-67986fad8bcb"
      },
      "execution_count": 51,
      "outputs": [
        {
          "output_type": "stream",
          "name": "stdout",
          "text": [
            "True\n",
            "False\n"
          ]
        }
      ]
    },
    {
      "cell_type": "markdown",
      "source": [
        "Using \"not\" before a boolean expression inverts it:"
      ],
      "metadata": {
        "id": "5e5Lj5xqOEpA"
      }
    },
    {
      "cell_type": "code",
      "source": [
        "print(not False) # Prints out True\n",
        "print((not False) == (False)) # Prints out False"
      ],
      "metadata": {
        "colab": {
          "base_uri": "https://localhost:8080/"
        },
        "id": "nx4Ib0phOFpj",
        "outputId": "7498f973-882f-4182-d55c-db4d619fb67d"
      },
      "execution_count": 52,
      "outputs": [
        {
          "output_type": "stream",
          "name": "stdout",
          "text": [
            "True\n",
            "False\n"
          ]
        }
      ]
    },
    {
      "cell_type": "markdown",
      "source": [
        "The \"for\" loop\n",
        "\n",
        "For loops iterate over a given sequence. Here is an example:"
      ],
      "metadata": {
        "id": "uCFws93uOrVZ"
      }
    },
    {
      "cell_type": "code",
      "source": [
        "primes = [1, 3, 5, 7]\n",
        "for prime in primes:\n",
        "    print(prime)"
      ],
      "metadata": {
        "colab": {
          "base_uri": "https://localhost:8080/"
        },
        "id": "MduC8ZIWOr8L",
        "outputId": "5b9e8976-51fc-4465-c58a-19bf10f02acb"
      },
      "execution_count": 53,
      "outputs": [
        {
          "output_type": "stream",
          "name": "stdout",
          "text": [
            "1\n",
            "3\n",
            "5\n",
            "7\n"
          ]
        }
      ]
    },
    {
      "cell_type": "code",
      "source": [
        "# Prints out the numbers 0,1,2,3,4\n",
        "for x in range(5):\n",
        "    print(x)\n",
        "print()\n",
        "# Prints out 3,4,5\n",
        "for x in range(3, 6):\n",
        "    print(x)\n",
        "print()\n",
        "# Prints out 3,5,7,9\n",
        "for x in range(3, 10, 2):\n",
        "    print(x)"
      ],
      "metadata": {
        "colab": {
          "base_uri": "https://localhost:8080/"
        },
        "id": "PO6nD0fvPXnJ",
        "outputId": "bef78bc5-c2d4-40f1-fd9a-03293aad864f"
      },
      "execution_count": 57,
      "outputs": [
        {
          "output_type": "stream",
          "name": "stdout",
          "text": [
            "0\n",
            "1\n",
            "2\n",
            "3\n",
            "4\n",
            "\n",
            "3\n",
            "4\n",
            "5\n",
            "\n",
            "3\n",
            "5\n",
            "7\n",
            "9\n"
          ]
        }
      ]
    },
    {
      "cell_type": "markdown",
      "source": [
        "While loops repeat as long as a certain boolean condition is met. For example:"
      ],
      "metadata": {
        "id": "V6ePNq7GPwfM"
      }
    },
    {
      "cell_type": "code",
      "source": [
        "# Prints out 0,1,2,3,4\n",
        "\n",
        "count = 0\n",
        "while count < 5:\n",
        "    print(count)\n",
        "    count += 1  # This is the same as count = count + 1"
      ],
      "metadata": {
        "colab": {
          "base_uri": "https://localhost:8080/"
        },
        "id": "C9doNUt5Pxgf",
        "outputId": "9a02e0f2-c578-492f-d617-eda2325c9491"
      },
      "execution_count": 58,
      "outputs": [
        {
          "output_type": "stream",
          "name": "stdout",
          "text": [
            "0\n",
            "1\n",
            "2\n",
            "3\n",
            "4\n"
          ]
        }
      ]
    },
    {
      "cell_type": "markdown",
      "source": [
        "\"break\" and \"continue\" statements"
      ],
      "metadata": {
        "id": "rMyThE4qQKyo"
      }
    },
    {
      "cell_type": "code",
      "source": [
        "count = 0\n",
        "while True:\n",
        "    print(count)\n",
        "    count += 1\n",
        "    if count >= 5:\n",
        "        break\n",
        "print()\n",
        "\n",
        "for x in range(10):\n",
        "    # Check if x is even\n",
        "    if x % 5 == 0:\n",
        "        continue\n",
        "    print(x)"
      ],
      "metadata": {
        "colab": {
          "base_uri": "https://localhost:8080/"
        },
        "id": "SoXSQPUDQLI6",
        "outputId": "192f545b-9770-4298-8911-7f0f95428497"
      },
      "execution_count": 61,
      "outputs": [
        {
          "output_type": "stream",
          "name": "stdout",
          "text": [
            "0\n",
            "1\n",
            "2\n",
            "3\n",
            "4\n",
            "\n",
            "1\n",
            "2\n",
            "3\n",
            "4\n",
            "6\n",
            "7\n",
            "8\n",
            "9\n"
          ]
        }
      ]
    },
    {
      "cell_type": "markdown",
      "source": [
        "Unlike languages like C,CPP.. we can use else for loops. When the loop condition of \"for\" or \"while\" statement fails then code part in \"else\" is executed. If a break statement is executed inside the for loop then the \"else\" part is skipped. Note that the \"else\" part is executed even if there is a continue statement."
      ],
      "metadata": {
        "id": "VQNsJpCMQfjg"
      }
    },
    {
      "cell_type": "code",
      "source": [
        "# Prints out 0,1,2,3,4 and then it prints \"count value reached 5\"\n",
        "\n",
        "count=0\n",
        "while(count<5):\n",
        "    print(count)\n",
        "    count +=1\n",
        "else:\n",
        "    print(\"count value reached %d\" %(count))\n",
        "\n",
        "# Prints out 1,2,3,4\n",
        "for i in range(1, 10):\n",
        "    if(i%5==0):\n",
        "        break\n",
        "    print(i)\n",
        "else:\n",
        "    print(\"this is not printed because for loop is terminated because of break but not due to fail in condition\")"
      ],
      "metadata": {
        "colab": {
          "base_uri": "https://localhost:8080/"
        },
        "id": "TBPEliYXQgBO",
        "outputId": "f665b606-5164-4bdd-d704-5f8cd6126fbe"
      },
      "execution_count": 62,
      "outputs": [
        {
          "output_type": "stream",
          "name": "stdout",
          "text": [
            "0\n",
            "1\n",
            "2\n",
            "3\n",
            "4\n",
            "count value reached 5\n",
            "1\n",
            "2\n",
            "3\n",
            "4\n"
          ]
        }
      ]
    },
    {
      "cell_type": "markdown",
      "source": [
        "How do you call functions in Python?\n",
        "\n",
        "Simply write the function's name followed by (), placing any required arguments within the brackets. For example, lets call the functions written above (in the previous example):"
      ],
      "metadata": {
        "id": "JGH1HIslSE6l"
      }
    },
    {
      "cell_type": "code",
      "source": [
        "# Define our 3 functions\n",
        "def my_function():\n",
        "    print(\"Hello From My Function!\")\n",
        "\n",
        "def my_function_with_args(username, greeting):\n",
        "    print(\"Hello, %s, From My Function!, I wish you %s\"%(username, greeting))\n",
        "\n",
        "def sum(a, b):\n",
        "    return a + b\n",
        "\n",
        "# print(a simple greeting)\n",
        "my_function()\n",
        "\n",
        "#prints - \"Hello, John Doe, From My Function!, I wish you a great year!\"\n",
        "my_function_with_args(\"John Doe\", \"a great year!\")\n",
        "\n",
        "# after this line x will hold the value 3!\n",
        "sum = sum(1,5)\n",
        "\n",
        "print(sum)"
      ],
      "metadata": {
        "colab": {
          "base_uri": "https://localhost:8080/"
        },
        "id": "7GNx5EFeSFSP",
        "outputId": "200a3746-72eb-48d0-83d1-d6934afd308c"
      },
      "execution_count": 65,
      "outputs": [
        {
          "output_type": "stream",
          "name": "stdout",
          "text": [
            "Hello From My Function!\n",
            "Hello, John Doe, From My Function!, I wish you a great year!\n",
            "6\n"
          ]
        }
      ]
    },
    {
      "cell_type": "markdown",
      "source": [
        "Objects are an encapsulation of variables and functions into a single entity. Objects get their variables and functions from classes. Classes are essentially a template to create your objects."
      ],
      "metadata": {
        "id": "9BH0D2HoUyvQ"
      }
    },
    {
      "cell_type": "code",
      "source": [
        "class MyClass:\n",
        "  variable=\"random\"\n",
        "\n",
        "\n",
        "  def test(self):\n",
        "    print(\"This is a message inside the class.\")\n",
        "\n",
        "myobjectx = MyClass()\n",
        "\n",
        "myobjectx.variable"
      ],
      "metadata": {
        "colab": {
          "base_uri": "https://localhost:8080/",
          "height": 35
        },
        "id": "K4eHE2laUzFD",
        "outputId": "c2301bcf-3054-4db7-a1e3-fb7a77df13b2"
      },
      "execution_count": 68,
      "outputs": [
        {
          "output_type": "execute_result",
          "data": {
            "text/plain": [
              "'random'"
            ],
            "application/vnd.google.colaboratory.intrinsic+json": {
              "type": "string"
            }
          },
          "metadata": {},
          "execution_count": 68
        }
      ]
    },
    {
      "cell_type": "markdown",
      "source": [
        "You can create multiple different objects that are of the same class(have the same variables and functions defined). However, each object contains independent copies of the variables defined in the class. For instance, if we were to define another object with the \"MyClass\" class and then change the string in the variable above:"
      ],
      "metadata": {
        "id": "zWjFuLb6VX1D"
      }
    },
    {
      "cell_type": "code",
      "source": [
        "class MyClass:\n",
        "    variable = \"random\"\n",
        "\n",
        "    def function(self):\n",
        "        print(\"This is a message inside the class.\")\n",
        "\n",
        "myobjectx = MyClass()\n",
        "myobjecty = MyClass()\n",
        "\n",
        "myobjecty.variable = \"random1\"\n",
        "\n",
        "# Then print out both values\n",
        "print(myobjectx.variable)\n",
        "print(myobjecty.variable)"
      ],
      "metadata": {
        "colab": {
          "base_uri": "https://localhost:8080/"
        },
        "id": "dGh6LKb8VYJs",
        "outputId": "75e10245-096d-4e67-d02f-7411d7e20032"
      },
      "execution_count": 71,
      "outputs": [
        {
          "output_type": "stream",
          "name": "stdout",
          "text": [
            "random\n",
            "random1\n"
          ]
        }
      ]
    },
    {
      "cell_type": "markdown",
      "source": [
        "\n",
        "init()\n",
        "\n",
        "The __init__() function, is a special function that is called when the class is being initiated. It's used for assigning values in a class."
      ],
      "metadata": {
        "id": "cpE8NEEIWLS6"
      }
    },
    {
      "cell_type": "code",
      "source": [
        "class NumberHolder:\n",
        "\n",
        "   def __init__(self, number):\n",
        "       self.number = number\n",
        "\n",
        "   def returnNumber(self):\n",
        "       return self.number\n",
        "\n",
        "var = NumberHolder(1)\n",
        "print(var.returnNumber()) #Prints '1'"
      ],
      "metadata": {
        "colab": {
          "base_uri": "https://localhost:8080/"
        },
        "id": "hLN_For-WMUj",
        "outputId": "06193015-6d4c-4788-89b9-52618c4dd7fc"
      },
      "execution_count": 73,
      "outputs": [
        {
          "output_type": "stream",
          "name": "stdout",
          "text": [
            "1\n"
          ]
        }
      ]
    },
    {
      "cell_type": "markdown",
      "source": [
        "A dictionary is a data type similar to arrays, but works with keys and values instead of indexes. Each value stored in a dictionary can be accessed using a key, which is any type of object (a string, a number, a list, etc.) instead of using its index to address it."
      ],
      "metadata": {
        "id": "4VlBsa3wjSZw"
      }
    },
    {
      "cell_type": "code",
      "source": [
        "phonebook = {}\n",
        "phonebook[\"A\"] = \"Hi\"\n",
        "phonebook[\"AAA\"] = 135\n",
        "phonebook[\"AAAAAA\"] = 1.9\n",
        "print(phonebook)"
      ],
      "metadata": {
        "colab": {
          "base_uri": "https://localhost:8080/"
        },
        "id": "IdDGwYTWjS6N",
        "outputId": "2a2c4e15-a710-48d3-c43f-8a3eba52e838"
      },
      "execution_count": 74,
      "outputs": [
        {
          "output_type": "stream",
          "name": "stdout",
          "text": [
            "{'A': 'Hi', 'AAA': 135, 'AAAAAA': 1.9}\n"
          ]
        }
      ]
    },
    {
      "cell_type": "markdown",
      "source": [
        "Alternatively, a dictionary can be initialized with the same values in the following notation:"
      ],
      "metadata": {
        "id": "MjTi6m5uku0g"
      }
    },
    {
      "cell_type": "code",
      "source": [
        "phonebook = {\n",
        "    \"A\" : \"Hi\",\n",
        "    \"AAA\" : 135,\n",
        "    \"AAAAA\" : 1.9\n",
        "}\n",
        "print(phonebook)"
      ],
      "metadata": {
        "colab": {
          "base_uri": "https://localhost:8080/"
        },
        "id": "EcdndHOgk2JN",
        "outputId": "b59597e8-d19e-49df-bc40-d2e1de973e2c"
      },
      "execution_count": 75,
      "outputs": [
        {
          "output_type": "stream",
          "name": "stdout",
          "text": [
            "{'A': 'Hi', 'AAA': 135, 'AAAAA': 1.9}\n"
          ]
        }
      ]
    },
    {
      "cell_type": "code",
      "source": [
        "phonebook = {\n",
        "     \"Test\" : 111,\n",
        "     \"Test1\" : 555,\n",
        "     \"Test111\" : 999\n",
        "    }\n",
        "for name, number in phonebook.items():\n",
        "  print(\"Phone number of %s is %d\" % (name, number))"
      ],
      "metadata": {
        "colab": {
          "base_uri": "https://localhost:8080/"
        },
        "id": "KVJHb__1nFYT",
        "outputId": "723151bb-87ec-44f7-cac7-60451e442dcf"
      },
      "execution_count": 1,
      "outputs": [
        {
          "output_type": "stream",
          "name": "stdout",
          "text": [
            "Phone number of Test is 111\n",
            "Phone number of Test1 is 555\n",
            "Phone number of Test111 is 999\n"
          ]
        }
      ]
    },
    {
      "cell_type": "markdown",
      "source": [
        "Removing a value\n",
        "\n",
        "To remove a specified index, use either one of the following notations:"
      ],
      "metadata": {
        "id": "VkN16j8ppt0c"
      }
    },
    {
      "cell_type": "code",
      "source": [
        "phonebook = {\n",
        "     \"Test\" : 111,\n",
        "     \"Test1\" : 555,\n",
        "     \"Test111\" : 999\n",
        "    }\n",
        "del phonebook['Test']\n",
        "print(phonebook)"
      ],
      "metadata": {
        "colab": {
          "base_uri": "https://localhost:8080/"
        },
        "id": "HQi7VLa9puig",
        "outputId": "a7fb1a64-b909-4f44-92d4-65aa3bbcfcec"
      },
      "execution_count": 2,
      "outputs": [
        {
          "output_type": "stream",
          "name": "stdout",
          "text": [
            "{'Test1': 555, 'Test111': 999}\n"
          ]
        }
      ]
    },
    {
      "cell_type": "code",
      "source": [
        "phonebook = {\n",
        "     \"Test\" : 111,\n",
        "     \"Test1\" : 555,\n",
        "     \"Test111\" : 999\n",
        "    }\n",
        "phonebook.pop('Test')\n",
        "print(phonebook)\n",
        "\n",
        "phonebook[\"Test11111111\"]=11111111\n",
        "print(phonebook)"
      ],
      "metadata": {
        "colab": {
          "base_uri": "https://localhost:8080/"
        },
        "id": "3V6_VhacqvP_",
        "outputId": "11af4125-0256-4b36-c756-0d51ba87867b"
      },
      "execution_count": 4,
      "outputs": [
        {
          "output_type": "stream",
          "name": "stdout",
          "text": [
            "{'Test1': 555, 'Test111': 999}\n",
            "{'Test1': 555, 'Test111': 999, 'Test11111111': 11111111}\n"
          ]
        }
      ]
    },
    {
      "cell_type": "markdown",
      "source": [
        "Writing modules\n",
        "\n",
        "Modules in Python are just Python files with a .py extension. The name of the module is the same as the file name. A Python module can have a set of functions, classes, or variables defined and implemented. The example above includes two files:\n",
        "\n",
        "mygame/\n",
        "\n",
        "    mygame/game.py\n",
        "\n",
        "    mygame/draw.py\n",
        "\n",
        "The Python script game.py implements the game. It uses the function draw_game from the file draw.py, or in other words, the draw module that implements the logic for drawing the game on the screen.\n",
        "\n",
        "Modules are imported from other modules using the import command. In this example, the game.py script may look something like this:"
      ],
      "metadata": {
        "id": "Aj323iPrrulq"
      }
    },
    {
      "cell_type": "code",
      "source": [
        "# import the draw module\n",
        "import draw\n",
        "\n",
        "def play_game():\n",
        "    ...\n",
        "\n",
        "def main():\n",
        "    result = play_game()\n",
        "    draw.draw_game(result)\n",
        "\n",
        "# this means that if this script is executed, then\n",
        "# main() will be executed\n",
        "if __name__ == '__main__':\n",
        "    main()"
      ],
      "metadata": {
        "id": "461qJk-frvjk"
      },
      "execution_count": null,
      "outputs": []
    },
    {
      "cell_type": "markdown",
      "source": [
        "The draw module may look something like this:"
      ],
      "metadata": {
        "id": "WipjxFFlr-nH"
      }
    },
    {
      "cell_type": "code",
      "source": [
        "# draw.py\n",
        "\n",
        "def draw_game():\n",
        "    ...\n",
        "\n",
        "def clear_screen(screen):\n",
        "    ..."
      ],
      "metadata": {
        "id": "HTZ4ukDZr_9x"
      },
      "execution_count": null,
      "outputs": []
    },
    {
      "cell_type": "markdown",
      "source": [
        "In this example, the game module imports the draw module, which enables it to use functions implemented in that module. The main function uses the local function play_game to run the game, and then draws the result of the game using a function implemented in the draw module called draw_game. To use the function draw_game from the draw module, we need to specify in which module the function is implemented, using the dot operator. To reference the draw_game function from the game module, we need to import the draw module and then call draw.draw_game()."
      ],
      "metadata": {
        "id": "xBSCxkv3sKNo"
      }
    },
    {
      "cell_type": "markdown",
      "source": [
        "\n",
        "\n",
        "When the import draw directive runs, the Python interpreter looks for a file in the directory in which the script was executed with the module name and a .py suffix. In this case it will look for draw.py. If it is found, it will be imported. If it's not found, it will continue looking for built-in modules.\n",
        "\n",
        "You may have noticed that when importing a module, a .pyc file is created. This is a compiled Python file. Python compiles files into Python bytecode so that it won't have to parse the files each time modules are loaded. If a .pyc file exists, it gets loaded instead of the .py file. This process is transparent to the user.\n",
        "Importing module objects to the current namespace\n",
        "\n",
        "A namespace is a system where every object is named and can be accessed in Python. We import the function draw_game into the main script's namespace by using the from command."
      ],
      "metadata": {
        "id": "bJFBnnSOsfR0"
      }
    },
    {
      "cell_type": "code",
      "source": [
        "# game.py\n",
        "# import the draw module\n",
        "from draw import draw_game\n",
        "\n",
        "def main():\n",
        "    result = play_game()\n",
        "    draw_game(result)"
      ],
      "metadata": {
        "id": "WCKsYExYsK8Y"
      },
      "execution_count": null,
      "outputs": []
    },
    {
      "cell_type": "markdown",
      "source": [
        "You may have noticed that in this example, the name of the module does not precede draw_game, because we've specified the module name using the import command.\n",
        "\n",
        "The advantages of this notation is that you don't have to reference the module over and over. However, a namespace cannot have two objects with the same name, so the import command may replace an existing object in the namespace."
      ],
      "metadata": {
        "id": "vM-X0GRysn-e"
      }
    },
    {
      "cell_type": "markdown",
      "source": [
        "Importing all objects from a module\n",
        "\n",
        "You can use the import * command to import all the objects in a module like this:"
      ],
      "metadata": {
        "id": "WlIgoQ6ostyr"
      }
    },
    {
      "cell_type": "code",
      "source": [
        "# game.py\n",
        "# import the draw module\n",
        "from draw import *\n",
        "\n",
        "def main():\n",
        "    result = play_game()\n",
        "    draw_game(result)"
      ],
      "metadata": {
        "id": "mY_ryVTLsogj"
      },
      "execution_count": null,
      "outputs": []
    },
    {
      "cell_type": "markdown",
      "source": [
        "Custom import name\n",
        "\n",
        "Modules may be loaded under any name you want. This is useful when importing a module conditionally to use the same name in the rest of the code.\n",
        "\n",
        "For example, if you have two draw modules with slighty different names, you may do the following:"
      ],
      "metadata": {
        "id": "mvzTPI1Hs1hy"
      }
    },
    {
      "cell_type": "code",
      "source": [
        "# game.py\n",
        "# import the draw module\n",
        "if visual_mode:\n",
        "    # in visual mode, we draw using graphics\n",
        "    import draw_visual as draw\n",
        "else:\n",
        "    # in textual mode, we print out text\n",
        "    import draw_textual as draw\n",
        "\n",
        "def main():\n",
        "    result = play_game()\n",
        "    # this can either be visual or textual depending on visual_mode\n",
        "    draw.draw_game(result)"
      ],
      "metadata": {
        "id": "sqT29dgns2l3"
      },
      "execution_count": null,
      "outputs": []
    },
    {
      "cell_type": "markdown",
      "source": [
        "The first time a module is loaded into a running Python script, it is initialized by executing the code in the module once. If another module in your code imports the same module again, it will not be loaded again, so local variables inside the module act as a \"singleton,\" meaning they are initialized only once.\n",
        "\n",
        "You can then use this to initialize objects. For example:"
      ],
      "metadata": {
        "id": "I9cdYDaVs7wj"
      }
    },
    {
      "cell_type": "code",
      "source": [
        "# draw.py\n",
        "\n",
        "def draw_game():\n",
        "    # when clearing the screen we can use the main screen object initialized in this module\n",
        "    clear_screen(main_screen)\n",
        "    ...\n",
        "\n",
        "def clear_screen(screen):\n",
        "    ...\n",
        "\n",
        "class Screen():\n",
        "    ...\n",
        "\n",
        "# initialize main_screen as a singleton\n",
        "main_screen = Screen()"
      ],
      "metadata": {
        "id": "T2VOLcE-s8W7"
      },
      "execution_count": null,
      "outputs": []
    },
    {
      "cell_type": "markdown",
      "source": [
        "Extending module load path\n",
        "\n",
        "There are a couple of ways to tell the Python interpreter where to look for modules, aside from the default local directory and built-in modules. You can use the environment variable PYTHONPATH to specify additional directories to look for modules like this:"
      ],
      "metadata": {
        "id": "CHluDKr0tpki"
      }
    },
    {
      "cell_type": "code",
      "source": [
        "PYTHONPATH=/foo python game.py"
      ],
      "metadata": {
        "id": "KrdE2OvQtrFv"
      },
      "execution_count": null,
      "outputs": []
    },
    {
      "cell_type": "markdown",
      "source": [
        "This executes game.py, and enables the script to load modules from the foo directory, as well as the local directory.\n",
        "\n",
        "You may also use the sys.path.append function. Execute it before running the import command:"
      ],
      "metadata": {
        "id": "Ou-anoxhtzUM"
      }
    },
    {
      "cell_type": "code",
      "source": [
        "sys.path.append(\"/foo\")"
      ],
      "metadata": {
        "id": "r4h1B5e9tz2b"
      },
      "execution_count": null,
      "outputs": []
    },
    {
      "cell_type": "markdown",
      "source": [
        "Input and Output\n",
        "\n",
        "Taking Input and showing Output in required way plays an important role in interactive coding. So lets focus on input and output of various data types."
      ],
      "metadata": {
        "id": "jd77KmS6uR8G"
      }
    },
    {
      "cell_type": "markdown",
      "source": [
        "input()\n",
        "\n",
        "this is used to take input as long as it reached end of line.Note that there should not be any spaces.Taking input terminates with a new line character and if there are any spaces in the input line it results in error"
      ],
      "metadata": {
        "id": "9XndJebzuUBz"
      }
    },
    {
      "cell_type": "code",
      "source": [
        "# Prints out the input received from stdin\n",
        "astring=input()# give hello as input\n",
        "print(input())"
      ],
      "metadata": {
        "colab": {
          "base_uri": "https://localhost:8080/"
        },
        "id": "3aUy2gMMuUaG",
        "outputId": "ce4ba1be-2287-45c0-a465-186d404d4afc"
      },
      "execution_count": 6,
      "outputs": [
        {
          "output_type": "stream",
          "name": "stdout",
          "text": [
            "Hi\n",
            "Hi\n",
            "Hi\n"
          ]
        }
      ]
    },
    {
      "cell_type": "code",
      "source": [
        "num=int(input())\n",
        "print(num)\n",
        "decimalnum=input()\n",
        "decimalnum=float(input())\n",
        "print(decimalnum)"
      ],
      "metadata": {
        "colab": {
          "base_uri": "https://localhost:8080/"
        },
        "id": "Re1uV7FeujuH",
        "outputId": "bf2bb0fa-05ce-4313-911c-1d291bab62a1"
      },
      "execution_count": 11,
      "outputs": [
        {
          "output_type": "stream",
          "name": "stdout",
          "text": [
            "1\n",
            "1\n",
            "1.1\n",
            "1.1\n",
            "1.1\n"
          ]
        }
      ]
    },
    {
      "cell_type": "code",
      "source": [
        "#give two integers in first line and more than two integers in third line\n",
        "a, b = map(int, input().split())\n",
        "array = input().split()\n",
        "sum = 0\n",
        "for each in array:\n",
        "    sum = sum + int(each)\n",
        "print(a, b, sum)  # prints first two integers from first line and sum of integers of second line"
      ],
      "metadata": {
        "colab": {
          "base_uri": "https://localhost:8080/"
        },
        "id": "v2LVQH4qvAjA",
        "outputId": "e64b73b6-8228-4973-cbb0-702b46f6a1bc"
      },
      "execution_count": 14,
      "outputs": [
        {
          "output_type": "stream",
          "name": "stdout",
          "text": [
            "1 3\n",
            "1\n",
            "1 3 1\n"
          ]
        }
      ]
    },
    {
      "cell_type": "code",
      "source": [
        "# Taking the name input using input()\n",
        "name = input(\"Enter your name: \")\n",
        "\n",
        "# Taking the age input using input() and converting it to integer\n",
        "age = int(input(\"Enter your age: \"))\n",
        "\n",
        "# Taking the country input using input()\n",
        "country = input(\"Enter your country: \")\n",
        "\n",
        "# Displaying the formatted sentence with name, age, and country\n",
        "print(\"Hello, my name is {}, I am {} years old, and I am from {}.\".format(name, age, country))"
      ],
      "metadata": {
        "colab": {
          "base_uri": "https://localhost:8080/"
        },
        "id": "NAyNTZJovh4q",
        "outputId": "04beb477-af2a-46d4-ea53-006745c441ef"
      },
      "execution_count": 15,
      "outputs": [
        {
          "output_type": "stream",
          "name": "stdout",
          "text": [
            "Enter your name: 1\n",
            "Enter your age: 1\n",
            "Enter your country: 1\n",
            "Hello, my name is 1, I am 1 years old, and I am from 1.\n"
          ]
        }
      ]
    },
    {
      "cell_type": "markdown",
      "source": [
        "Lambda functions\n"
      ],
      "metadata": {
        "id": "XwRsxfdNwJxc"
      }
    },
    {
      "cell_type": "code",
      "source": [
        "a = 1\n",
        "b = 5\n",
        "sum = lambda x,y : x + y\n",
        "c = sum(a,b)\n",
        "print(c)"
      ],
      "metadata": {
        "colab": {
          "base_uri": "https://localhost:8080/"
        },
        "id": "hjJA8olewLIx",
        "outputId": "155c4d92-ad4e-4976-ce57-1759ea408bb3"
      },
      "execution_count": 17,
      "outputs": [
        {
          "output_type": "stream",
          "name": "stdout",
          "text": [
            "6\n"
          ]
        }
      ]
    },
    {
      "cell_type": "markdown",
      "source": [
        "Exception Handling"
      ],
      "metadata": {
        "id": "qd322QkGw9Ky"
      }
    },
    {
      "cell_type": "code",
      "source": [
        "def do_stuff_with_number(n):\n",
        "    print(n)\n",
        "\n",
        "def catch_this():\n",
        "    the_list = (1,3,5)\n",
        "\n",
        "    for i in range(5):\n",
        "        try:\n",
        "            do_stuff_with_number(the_list[i])\n",
        "        except IndexError: # Raised when accessing a non-existing index of a list\n",
        "            do_stuff_with_number(0)\n",
        "\n",
        "catch_this()"
      ],
      "metadata": {
        "colab": {
          "base_uri": "https://localhost:8080/"
        },
        "id": "rtRBOXyCw90T",
        "outputId": "b2b89044-2094-49a3-a34d-9aa9c6657c9a"
      },
      "execution_count": 19,
      "outputs": [
        {
          "output_type": "stream",
          "name": "stdout",
          "text": [
            "1\n",
            "3\n",
            "5\n",
            "0\n",
            "0\n"
          ]
        }
      ]
    },
    {
      "cell_type": "code",
      "source": [],
      "metadata": {
        "id": "rbwRQsalxQ80"
      },
      "execution_count": null,
      "outputs": []
    }
  ]
}